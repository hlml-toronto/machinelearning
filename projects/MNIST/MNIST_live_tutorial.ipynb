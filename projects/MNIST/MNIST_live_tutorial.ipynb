{
 "cells": [
  {
   "cell_type": "code",
   "execution_count": 6,
   "metadata": {},
   "outputs": [],
   "source": [
    "import numpy as np\n",
    "import matplotlib.pyplot as plt \n",
    "import os\n",
    "import sklearn\n",
    "from sklearn.datasets import load_digits\n",
    "import torch\n",
    "import torchvision.datasets"
   ]
  },
  {
   "cell_type": "code",
   "execution_count": 7,
   "metadata": {},
   "outputs": [],
   "source": [
    "# GLOBALS\n",
    "BATCH_SIZE = 1000\n",
    "DATA_FOLDER = 'data'"
   ]
  },
  {
   "cell_type": "code",
   "execution_count": 5,
   "metadata": {},
   "outputs": [],
   "source": [
    "from sklearn.datasets import fetch_openml # MNIST data\n",
    "X, y = fetch_openml('mnist_784', version=1, return_X_y=True)"
   ]
  },
  {
   "cell_type": "code",
   "execution_count": 12,
   "metadata": {},
   "outputs": [],
   "source": [
    "def torch_data_loading(batch_size=BATCH_SIZE):\n",
    "    print('Loading dataset...')\n",
    "    train_dataset = torchvision.datasets.MNIST(root=DATA_FOLDER, train=True,\n",
    "                                               transform=torchvision.transforms.ToTensor(), download=True)\n",
    "    train_loader = torch.utils.data.DataLoader(train_dataset, batch_size=batch_size)\n",
    "    test_dataset = torchvision.datasets.MNIST(root=DATA_FOLDER, train=False,\n",
    "                                              transform=torchvision.transforms.ToTensor(), download=True)\n",
    "    test_loader = torch.utils.data.DataLoader(test_dataset, batch_size=batch_size)\n",
    "    print(\"Done loading!\")\n",
    "    return train_dataset, train_loader, test_dataset, test_loader"
   ]
  },
  {
   "cell_type": "code",
   "execution_count": 13,
   "metadata": {},
   "outputs": [
    {
     "name": "stdout",
     "output_type": "stream",
     "text": [
      "Loading dataset...\n",
      "Done loading!\n"
     ]
    }
   ],
   "source": [
    "train_dataset, train_loader, test_dataset, test_loader = torch_data_loading()"
   ]
  },
  {
   "cell_type": "code",
   "execution_count": 30,
   "metadata": {},
   "outputs": [
    {
     "name": "stdout",
     "output_type": "stream",
     "text": [
      "5\n"
     ]
    },
    {
     "data": {
      "text/plain": [
       "<matplotlib.image.AxesImage at 0x7f982d62bd30>"
      ]
     },
     "execution_count": 30,
     "metadata": {},
     "output_type": "execute_result"
    },
    {
     "data": {
      "image/png": "[encoded data removed]",
      "text/plain": [
       "<Figure size 432x288 with 1 Axes>"
      ]
     },
     "metadata": {
      "needs_background": "light"
     },
     "output_type": "display_data"
    }
   ],
   "source": [
    "print(train_dataset[0][1])\n",
    "plt.imshow(train_dataset[0][0][0])"
   ]
  },
  {
   "cell_type": "code",
   "execution_count": 51,
   "metadata": {},
   "outputs": [],
   "source": [
    "import torch.nn.functional as F\n",
    "import torch.nn as nn\n",
    "\n",
    "class FFNNet(nn.Module):\n",
    "\n",
    "    def __init__(self):\n",
    "        super(FFNNet, self).__init__()\n",
    "        # an affine operation: y = Wx + b\n",
    "        self.fc1 = nn.Linear(1 * 28 * 28, 120, bias=False)\n",
    "        self.fc2 = nn.Linear(120, 84)\n",
    "        self.fc3 = nn.Linear(84, 10)\n",
    "\n",
    "    def forward(self, x):\n",
    "        x = x.view(-1, self.num_flat_features(x)) # view is ~ reshape\n",
    "        x = F.relu(self.fc1(x))\n",
    "        x = F.relu(self.fc2(x))\n",
    "        x = self.fc3(x)\n",
    "        return x\n",
    "\n",
    "    def num_flat_features(self, x):\n",
    "        size = x.size()[1:]  # all dimensions except the batch dimension\n",
    "        num_features = 1\n",
    "        for s in size:\n",
    "            num_features *= s\n",
    "        return num_features"
   ]
  },
  {
   "cell_type": "code",
   "execution_count": 90,
   "metadata": {},
   "outputs": [
    {
     "name": "stdout",
     "output_type": "stream",
     "text": [
      "FFNNet(\n",
      "  (fc1): Linear(in_features=784, out_features=120, bias=False)\n",
      "  (fc2): Linear(in_features=120, out_features=84, bias=True)\n",
      "  (fc3): Linear(in_features=84, out_features=10, bias=True)\n",
      ")\n",
      "There are 105094 parameters in our network\n"
     ]
    }
   ],
   "source": [
    "net = FFNNet()\n",
    "print(net)\n",
    "with torch.no_grad():\n",
    "    num_params = [len(el.numpy().flatten()) for el in list(net.parameters())]\n",
    "    print(\"There are {} parameters in our network\".format(np.sum(num_params)))"
   ]
  },
  {
   "cell_type": "code",
   "execution_count": 53,
   "metadata": {},
   "outputs": [
    {
     "name": "stdout",
     "output_type": "stream",
     "text": [
      "cpu\n"
     ]
    }
   ],
   "source": [
    "loss_function = nn.CrossEntropyLoss()\n",
    "\n",
    "\n",
    "# Training loop hyperparameters\n",
    "epochs = 10\n",
    "learning_rate = 0.001\n",
    "\n",
    "# Choose an optimizer or create one\n",
    "import torch.optim as optim\n",
    "optimizer = optim.SGD(net.parameters(), lr=learning_rate, momentum=0.9)\n",
    "\n",
    "# Set device\n",
    "device = torch.device(\"cuda:0\" if torch.cuda.is_available() else \"cpu\")\n",
    "net.to(device)\n",
    "########inputs, labels = data[0].to(device), data[1].to(device)  # what to send to deive? the Dataset object? \n",
    "print(device)"
   ]
  },
  {
   "cell_type": "code",
   "execution_count": 55,
   "metadata": {},
   "outputs": [],
   "source": [
    "def report_test_error():\n",
    "    correct = 0\n",
    "    total = 0\n",
    "    with torch.no_grad():\n",
    "        for data in test_loader:\n",
    "            samples, labels = data\n",
    "            outputs = net(samples)\n",
    "            _, predicted = torch.max(outputs, 1)\n",
    "            total += labels.size(0)\n",
    "            correct += (predicted == labels).sum().item()\n",
    "\n",
    "    print('Accuracy of the network on the %d test images: %d %%' % (total, (100 * correct / total)))"
   ]
  },
  {
   "cell_type": "code",
   "execution_count": 56,
   "metadata": {},
   "outputs": [
    {
     "name": "stdout",
     "output_type": "stream",
     "text": [
      "0\n",
      "Epoch: 0, batch:    10, loss: 13.491\n",
      "Accuracy of the network on the 10000 test images: 75 %\n",
      "Epoch: 0, batch:    20, loss: 13.368\n",
      "Accuracy of the network on the 10000 test images: 76 %\n",
      "Epoch: 0, batch:    30, loss: 12.908\n",
      "Accuracy of the network on the 10000 test images: 76 %\n",
      "Epoch: 0, batch:    40, loss: 12.830\n",
      "Accuracy of the network on the 10000 test images: 77 %\n",
      "Epoch: 0, batch:    50, loss: 12.475\n",
      "Accuracy of the network on the 10000 test images: 77 %\n",
      "Epoch: 0, batch:    60, loss: 11.846\n",
      "Accuracy of the network on the 10000 test images: 77 %\n",
      "1\n",
      "Epoch: 1, batch:    10, loss: 11.692\n",
      "Accuracy of the network on the 10000 test images: 77 %\n",
      "Epoch: 1, batch:    20, loss: 11.635\n",
      "Accuracy of the network on the 10000 test images: 78 %\n",
      "Epoch: 1, batch:    30, loss: 11.211\n",
      "Accuracy of the network on the 10000 test images: 78 %\n",
      "Epoch: 1, batch:    40, loss: 11.205\n",
      "Accuracy of the network on the 10000 test images: 78 %\n",
      "Epoch: 1, batch:    50, loss: 10.888\n",
      "Accuracy of the network on the 10000 test images: 78 %\n",
      "Epoch: 1, batch:    60, loss: 10.280\n",
      "Accuracy of the network on the 10000 test images: 79 %\n",
      "2\n",
      "Epoch: 2, batch:    10, loss: 10.232\n",
      "Accuracy of the network on the 10000 test images: 79 %\n",
      "Epoch: 2, batch:    20, loss: 10.241\n",
      "Accuracy of the network on the 10000 test images: 79 %\n",
      "Epoch: 2, batch:    30, loss: 9.869\n",
      "Accuracy of the network on the 10000 test images: 79 %\n",
      "Epoch: 2, batch:    40, loss: 9.923\n",
      "Accuracy of the network on the 10000 test images: 79 %\n",
      "Epoch: 2, batch:    50, loss: 9.650\n",
      "Accuracy of the network on the 10000 test images: 79 %\n",
      "Epoch: 2, batch:    60, loss: 9.068\n",
      "Accuracy of the network on the 10000 test images: 79 %\n",
      "3\n",
      "Epoch: 3, batch:    10, loss: 9.114\n",
      "Accuracy of the network on the 10000 test images: 79 %\n",
      "Epoch: 3, batch:    20, loss: 9.176\n",
      "Accuracy of the network on the 10000 test images: 79 %\n",
      "Epoch: 3, batch:    30, loss: 8.850\n",
      "Accuracy of the network on the 10000 test images: 80 %\n",
      "Epoch: 3, batch:    40, loss: 8.946\n",
      "Accuracy of the network on the 10000 test images: 80 %\n",
      "Epoch: 3, batch:    50, loss: 8.710\n",
      "Accuracy of the network on the 10000 test images: 80 %\n",
      "Epoch: 3, batch:    60, loss: 8.148\n",
      "Accuracy of the network on the 10000 test images: 80 %\n",
      "4\n",
      "Epoch: 4, batch:    10, loss: 8.266\n",
      "Accuracy of the network on the 10000 test images: 80 %\n",
      "Epoch: 4, batch:    20, loss: 8.364\n",
      "Accuracy of the network on the 10000 test images: 80 %\n",
      "Epoch: 4, batch:    30, loss: 8.077\n",
      "Accuracy of the network on the 10000 test images: 81 %\n",
      "Epoch: 4, batch:    40, loss: 8.197\n",
      "Accuracy of the network on the 10000 test images: 81 %\n",
      "Epoch: 4, batch:    50, loss: 7.990\n",
      "Accuracy of the network on the 10000 test images: 81 %\n",
      "Epoch: 4, batch:    60, loss: 7.443\n",
      "Accuracy of the network on the 10000 test images: 81 %\n",
      "5\n",
      "Epoch: 5, batch:    10, loss: 7.613\n",
      "Accuracy of the network on the 10000 test images: 81 %\n",
      "Epoch: 5, batch:    20, loss: 7.736\n",
      "Accuracy of the network on the 10000 test images: 81 %\n",
      "Epoch: 5, batch:    30, loss: 7.476\n",
      "Accuracy of the network on the 10000 test images: 82 %\n",
      "Epoch: 5, batch:    40, loss: 7.611\n",
      "Accuracy of the network on the 10000 test images: 82 %\n",
      "Epoch: 5, batch:    50, loss: 7.426\n",
      "Accuracy of the network on the 10000 test images: 82 %\n",
      "Epoch: 5, batch:    60, loss: 6.890\n",
      "Accuracy of the network on the 10000 test images: 82 %\n",
      "6\n",
      "Epoch: 6, batch:    10, loss: 7.096\n",
      "Accuracy of the network on the 10000 test images: 82 %\n",
      "Epoch: 6, batch:    20, loss: 7.235\n",
      "Accuracy of the network on the 10000 test images: 82 %\n",
      "Epoch: 6, batch:    30, loss: 6.997\n",
      "Accuracy of the network on the 10000 test images: 82 %\n",
      "Epoch: 6, batch:    40, loss: 7.141\n",
      "Accuracy of the network on the 10000 test images: 82 %\n",
      "Epoch: 6, batch:    50, loss: 6.974\n",
      "Accuracy of the network on the 10000 test images: 82 %\n",
      "Epoch: 6, batch:    60, loss: 6.445\n",
      "Accuracy of the network on the 10000 test images: 82 %\n",
      "7\n",
      "Epoch: 7, batch:    10, loss: 6.677\n",
      "Accuracy of the network on the 10000 test images: 82 %\n",
      "Epoch: 7, batch:    20, loss: 6.826\n",
      "Accuracy of the network on the 10000 test images: 83 %\n",
      "Epoch: 7, batch:    30, loss: 6.604\n",
      "Accuracy of the network on the 10000 test images: 83 %\n",
      "Epoch: 7, batch:    40, loss: 6.754\n",
      "Accuracy of the network on the 10000 test images: 83 %\n",
      "Epoch: 7, batch:    50, loss: 6.601\n",
      "Accuracy of the network on the 10000 test images: 83 %\n",
      "Epoch: 7, batch:    60, loss: 6.079\n",
      "Accuracy of the network on the 10000 test images: 83 %\n",
      "8\n",
      "Epoch: 8, batch:    10, loss: 6.328\n",
      "Accuracy of the network on the 10000 test images: 83 %\n",
      "Epoch: 8, batch:    20, loss: 6.485\n",
      "Accuracy of the network on the 10000 test images: 83 %\n",
      "Epoch: 8, batch:    30, loss: 6.275\n",
      "Accuracy of the network on the 10000 test images: 83 %\n",
      "Epoch: 8, batch:    40, loss: 6.428\n",
      "Accuracy of the network on the 10000 test images: 84 %\n",
      "Epoch: 8, batch:    50, loss: 6.288\n",
      "Accuracy of the network on the 10000 test images: 84 %\n",
      "Epoch: 8, batch:    60, loss: 5.772\n",
      "Accuracy of the network on the 10000 test images: 84 %\n",
      "9\n",
      "Epoch: 9, batch:    10, loss: 6.032\n",
      "Accuracy of the network on the 10000 test images: 84 %\n",
      "Epoch: 9, batch:    20, loss: 6.194\n",
      "Accuracy of the network on the 10000 test images: 84 %\n",
      "Epoch: 9, batch:    30, loss: 5.995\n",
      "Accuracy of the network on the 10000 test images: 84 %\n",
      "Epoch: 9, batch:    40, loss: 6.150\n",
      "Accuracy of the network on the 10000 test images: 84 %\n",
      "Epoch: 9, batch:    50, loss: 6.020\n",
      "Accuracy of the network on the 10000 test images: 84 %\n",
      "Epoch: 9, batch:    60, loss: 5.510\n",
      "Accuracy of the network on the 10000 test images: 84 %\n"
     ]
    }
   ],
   "source": [
    "for epoch in range(epochs):       # loop over the dataset multiple times\n",
    "    print(epoch)\n",
    "    running_loss = 0.0\n",
    "    for i, data in enumerate(train_loader, 0):\n",
    "        inputs, labels = data  # get the inputs; data is a list of [inputs, labels]\n",
    "\n",
    "        # zero the parameter gradients\n",
    "        optimizer.zero_grad()\n",
    "\n",
    "        # forward + backward + optimize\n",
    "        outputs = net(inputs)\n",
    "        loss = loss_function(outputs, labels)\n",
    "        loss.backward()\n",
    "        optimizer.step()\n",
    "\n",
    "        # print statistics\n",
    "        running_loss += loss.item()\n",
    "        if i % 10 == 9:    # print every 9\n",
    "            print('Epoch: %d, batch: %5d, loss: %.3f' %\n",
    "                  (epoch, i + 1, running_loss))\n",
    "            report_test_error()\n",
    "            running_loss = 0.0"
   ]
  },
  {
   "cell_type": "code",
   "execution_count": 78,
   "metadata": {},
   "outputs": [
    {
     "name": "stdout",
     "output_type": "stream",
     "text": [
      "Our network thinks this is a 7\n",
      "The true label is 7\n"
     ]
    },
    {
     "data": {
      "image/png": "[encoded data removed]",
      "text/plain": [
       "<Figure size 432x288 with 1 Axes>"
      ]
     },
     "metadata": {
      "needs_background": "light"
     },
     "output_type": "display_data"
    }
   ],
   "source": [
    "with torch.no_grad():\n",
    "    correct_label = test_dataset[0][1]\n",
    "    prediction = net(test_dataset[0][0])\n",
    "    print(\"Our network thinks this is a {}\".format(np.argmax(prediction.numpy()[0])))\n",
    "    print(\"The true label is \" + str(correct_label))\n",
    "    plt.imshow(test_dataset[0][0][0])\n"
   ]
  },
  {
   "cell_type": "code",
   "execution_count": null,
   "metadata": {},
   "outputs": [],
   "source": []
  }
 ],
 "metadata": {
  "kernelspec": {
   "display_name": "Python 3",
   "language": "python",
   "name": "python3"
  },
  "language_info": {
   "codemirror_mode": {
    "name": "ipython",
    "version": 3
   },
   "file_extension": ".py",
   "mimetype": "text/x-python",
   "name": "python",
   "nbconvert_exporter": "python",
   "pygments_lexer": "ipython3",
   "version": "3.8.5"
  }
 },
 "nbformat": 4,
 "nbformat_minor": 4
}
