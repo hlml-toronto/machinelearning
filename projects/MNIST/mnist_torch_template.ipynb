{
 "cells": [
  {
   "cell_type": "code",
   "execution_count": 1,
   "id": "interior-bullet",
   "metadata": {},
   "outputs": [],
   "source": [
    "import numpy as np\n",
    "import matplotlib.pyplot as plt \n",
    "import os\n",
    "import sklearn\n",
    "from sklearn.datasets import load_digits\n",
    "import torch\n",
    "import torchvision.datasets"
   ]
  },
  {
   "cell_type": "code",
   "execution_count": 2,
   "id": "ambient-arbor",
   "metadata": {},
   "outputs": [],
   "source": [
    "# GLOBALS\n",
    "BATCH_SIZE = 1000\n",
    "DATA_FOLDER = 'data'"
   ]
  },
  {
   "cell_type": "markdown",
   "id": "favorite-statement",
   "metadata": {},
   "source": [
    "# Load the MNIST dataset"
   ]
  },
  {
   "cell_type": "code",
   "execution_count": 11,
   "id": "mexican-authority",
   "metadata": {},
   "outputs": [],
   "source": [
    "def torch_data_loading(batch_size=BATCH_SIZE):\n",
    "    print('Loading dataset...')\n",
    "    DATA_FOLDER = 'data'\n",
    "    train_dataset = torchvision.datasets.MNIST(root=DATA_FOLDER, train=True,\n",
    "                                               transform=torchvision.transforms.ToTensor(), download=True)\n",
    "    train_loader = torch.utils.data.DataLoader(train_dataset, batch_size=batch_size)\n",
    "    test_dataset = torchvision.datasets.MNIST(root=DATA_FOLDER, train=False,\n",
    "                                              transform=torchvision.transforms.ToTensor(), download=True)\n",
    "    test_loader = torch.utils.data.DataLoader(test_dataset, batch_size=batch_size)\n",
    "    return train_dataset, train_loader, test_dataset, test_loader"
   ]
  },
  {
   "cell_type": "code",
   "execution_count": 12,
   "id": "boring-potter",
   "metadata": {},
   "outputs": [
    {
     "name": "stdout",
     "output_type": "stream",
     "text": [
      "Loading dataset...\n"
     ]
    }
   ],
   "source": [
    "train_dataset, train_loader, test_dataset, test_loader = torch_data_loading()"
   ]
  },
  {
   "cell_type": "markdown",
   "id": "concerned-region",
   "metadata": {},
   "source": [
    "# Define your architecture"
   ]
  },
  {
   "cell_type": "code",
   "execution_count": 10,
   "id": "czech-america",
   "metadata": {},
   "outputs": [],
   "source": [
    "# ..."
   ]
  },
  {
   "cell_type": "markdown",
   "id": "simple-authority",
   "metadata": {},
   "source": [
    "# Train"
   ]
  },
  {
   "cell_type": "code",
   "execution_count": null,
   "id": "everyday-revolution",
   "metadata": {},
   "outputs": [],
   "source": [
    "# ..."
   ]
  }
 ],
 "metadata": {
  "kernelspec": {
   "display_name": "Python 3",
   "language": "python",
   "name": "python3"
  },
  "language_info": {
   "codemirror_mode": {
    "name": "ipython",
    "version": 3
   },
   "file_extension": ".py",
   "mimetype": "text/x-python",
   "name": "python",
   "nbconvert_exporter": "python",
   "pygments_lexer": "ipython3",
   "version": "3.8.7"
  }
 },
 "nbformat": 4,
 "nbformat_minor": 5
}
