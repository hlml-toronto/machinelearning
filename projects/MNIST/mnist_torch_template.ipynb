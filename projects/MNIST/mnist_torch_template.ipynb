{
 "cells": [
  {
   "cell_type": "code",
   "execution_count": 1,
   "id": "threaded-underground",
   "metadata": {},
   "outputs": [],
   "source": [
    "import numpy as np\n",
    "import matplotlib.pyplot as plt \n",
    "import os\n",
    "import torch\n",
    "import torchvision.datasets"
   ]
  },
  {
   "cell_type": "code",
   "execution_count": 21,
   "id": "statutory-delaware",
   "metadata": {},
   "outputs": [],
   "source": [
    "# GLOBALS\n",
    "BATCH_SIZE = 100\n",
    "DATA_FOLDER = 'data'"
   ]
  },
  {
   "cell_type": "markdown",
   "id": "unique-substance",
   "metadata": {},
   "source": [
    "# Load the MNIST dataset"
   ]
  },
  {
   "cell_type": "code",
   "execution_count": 15,
   "id": "small-exploration",
   "metadata": {},
   "outputs": [],
   "source": [
    "def torch_data_loading(batch_size=BATCH_SIZE):\n",
    "    print('Loading dataset...')\n",
    "    train_dataset = torchvision.datasets.MNIST(root=DATA_FOLDER, train=True,\n",
    "                                               transform=torchvision.transforms.ToTensor(), download=True)\n",
    "    train_loader = torch.utils.data.DataLoader(train_dataset, batch_size=batch_size)\n",
    "    test_dataset = torchvision.datasets.MNIST(root=DATA_FOLDER, train=False,\n",
    "                                              transform=torchvision.transforms.ToTensor(), download=True)\n",
    "    test_loader = torch.utils.data.DataLoader(test_dataset, batch_size=batch_size)\n",
    "    print('done')\n",
    "    return train_dataset, train_loader, test_dataset, test_loader"
   ]
  },
  {
   "cell_type": "code",
   "execution_count": 16,
   "id": "focused-evolution",
   "metadata": {},
   "outputs": [
    {
     "name": "stdout",
     "output_type": "stream",
     "text": [
      "Loading dataset...\n",
      "done\n"
     ]
    }
   ],
   "source": [
    "train_dataset, train_loader, test_dataset, test_loader = torch_data_loading()"
   ]
  },
  {
   "cell_type": "code",
   "execution_count": 19,
   "id": "blond-bundle",
   "metadata": {},
   "outputs": [
    {
     "name": "stdout",
     "output_type": "stream",
     "text": [
      "Sample label: 5\n"
     ]
    },
    {
     "data": {
      "text/plain": [
       "<matplotlib.image.AxesImage at 0x25880b16490>"
      ]
     },
     "execution_count": 19,
     "metadata": {},
     "output_type": "execute_result"
    },
    {
     "data": {
      "image/png": "[encoded data removed]",
      "text/plain": [
       "<Figure size 432x288 with 1 Axes>"
      ]
     },
     "metadata": {
      "needs_background": "light"
     },
     "output_type": "display_data"
    }
   ],
   "source": [
    "# dataset example\n",
    "sample_tuple = train_dataset[0]\n",
    "sample_label = sample_tuple[1]\n",
    "sample_x = sample_tuple[0]\n",
    "\n",
    "print('Sample label:', sample_label)\n",
    "plt.imshow(sample_x[0,:,:])"
   ]
  },
  {
   "cell_type": "markdown",
   "id": "extensive-summary",
   "metadata": {},
   "source": [
    "# Define your architecture"
   ]
  },
  {
   "cell_type": "code",
   "execution_count": 10,
   "id": "fitted-feature",
   "metadata": {},
   "outputs": [],
   "source": [
    "# ..."
   ]
  },
  {
   "cell_type": "markdown",
   "id": "qualified-actor",
   "metadata": {},
   "source": [
    "# Train"
   ]
  },
  {
   "cell_type": "code",
   "execution_count": 20,
   "id": "similar-highway",
   "metadata": {},
   "outputs": [],
   "source": [
    "# ..."
   ]
  }
 ],
 "metadata": {
  "kernelspec": {
   "display_name": "Python 3",
   "language": "python",
   "name": "python3"
  },
  "language_info": {
   "codemirror_mode": {
    "name": "ipython",
    "version": 3
   },
   "file_extension": ".py",
   "mimetype": "text/x-python",
   "name": "python",
   "nbconvert_exporter": "python",
   "pygments_lexer": "ipython3",
   "version": "3.8.7"
  }
 },
 "nbformat": 4,
 "nbformat_minor": 5
}
