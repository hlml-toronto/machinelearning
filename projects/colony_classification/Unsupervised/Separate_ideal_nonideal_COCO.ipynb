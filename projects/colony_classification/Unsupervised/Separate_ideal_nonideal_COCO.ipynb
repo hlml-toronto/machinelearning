{
 "cells": [
  {
   "cell_type": "markdown",
   "id": "d3ec464b",
   "metadata": {},
   "source": [
    "# Creating COCO dataset from labelme annotations"
   ]
  },
  {
   "cell_type": "code",
   "execution_count": 2,
   "id": "9e543de4",
   "metadata": {},
   "outputs": [],
   "source": [
    "import os\n",
    "import json\n",
    "import labelme2coco\n",
    "import shutil\n",
    "import numpy as np\n",
    "import matplotlib.pyplot as plt\n",
    "\n",
    "from PIL import Image\n",
    "from sklearn.model_selection import train_test_split\n",
    "from pycocotools.coco import COCO"
   ]
  },
  {
   "cell_type": "code",
   "execution_count": 3,
   "id": "789e6813",
   "metadata": {},
   "outputs": [],
   "source": [
    "# first set up directories \n",
    "dataset_path = os.path.join(os.getcwd(), 'dataset')\n",
    "coco_path = os.path.join(os.getcwd(), 'COCO_dataset')\n",
    "\n",
    "ann_path = os.path.join(coco_path, \"annotations\")\n",
    "img_path = os.path.join(coco_path, \"images\")"
   ]
  },
  {
   "cell_type": "code",
   "execution_count": 18,
   "id": "653ed98b",
   "metadata": {},
   "outputs": [],
   "source": [
    "if not os.path.exists(coco_path):   \n",
    "    os.mkdir(coco_path)  \n",
    "    \n",
    "if not os.path.exists(ann_path):\n",
    "    os.mkdir(ann_path)\n",
    "    \n",
    "if not os.path.exists(img_path):\n",
    "    os.mkdir(img_path)"
   ]
  },
  {
   "cell_type": "code",
   "execution_count": 10,
   "id": "bdef8f50",
   "metadata": {},
   "outputs": [
    {
     "name": "stdout",
     "output_type": "stream",
     "text": [
      "completed Labelme to COCO format conversion\n"
     ]
    }
   ],
   "source": [
    "# this conversion to coco format will take ~5 mins on a modern cpu with 50 images as provided\n",
    "labelme_folder = os.path.join(dataset_path, \"Labelme_annotations\")\n",
    "save_json_path = os.path.join(coco_path, \"annotations\") + os.sep +  \"COCO_complete.json\"\n",
    "labelme2coco.convert(labelme_folder, save_json_path)\n",
    "print(\"completed Labelme to COCO format conversion\")"
   ]
  },
  {
   "cell_type": "markdown",
   "id": "65b3f5a9",
   "metadata": {},
   "source": [
    "# split images/annotations based on scan quality"
   ]
  },
  {
   "cell_type": "code",
   "execution_count": 20,
   "id": "020dadb9",
   "metadata": {},
   "outputs": [],
   "source": [
    "def save_coco_json(dest, images, annotations, licenses, categoies, info):\n",
    "    with open(dest, 'wt', encoding='UTF-8') as coco_output:\n",
    "        json.dump({'images': images, 'annotations': annotations, 'licenses': licenses, 'categories': categories, 'info': info}, coco_output, indent=2, sort_keys=True)  \n",
    "    \n",
    "def save_subset_images(dest_dir, images):\n",
    "    \n",
    "    for img in images:\n",
    "        img_path = img['file_name']\n",
    "        shutil.copy(img_path, dest_dir)\n",
    "        \n",
    "def extract_annotations_from_images(images, annotations):\n",
    "    annotations_to_return = []\n",
    "    for img in images:\n",
    "        img_id = int(img['id'])\n",
    "        \n",
    "        for ann in annotations:\n",
    "            if img_id == int(ann['image_id']):\n",
    "                annotations_to_return.append(ann)\n",
    "            \n",
    "    return annotations_to_return\n",
    "        \n",
    "#takes in annotations and splits images and coco json into ideal/nonideal folders\n",
    "with open(save_json_path, 'rt', encoding='UTF-8') as ann:\n",
    "    coco=json.load(ann)\n",
    "    images= coco['images']\n",
    "    annotations= coco['annotations']\n",
    "    categories= coco['categories']\n",
    "    \n",
    "    #extract the ideal filenames so we can segregate images/annotations in separate folders/jsons\n",
    "    ideal_filenames = []\n",
    "    with open('ideal_imaging_filenames.txt', 'r') as ideal_files:\n",
    "        for filename in ideal_files:\n",
    "            \n",
    "            ideal_filenames.append(filename.strip())\n",
    "            \n",
    "    ideals = []\n",
    "    nonideals = []\n",
    "    \n",
    "    for img in images:\n",
    "        if img['file_name'].split(os.sep)[-1] in ideal_filenames:\n",
    "            ideals.append(img)\n",
    "        else:\n",
    "            nonideals.append(img)\n",
    "        \n",
    "    for name, split in [[\"ideal\", ideals], [\"nonideal\", nonideals], [\"combined\", images]]:\n",
    "        \n",
    "        save_img_path = img_path + os.sep + name\n",
    "        \n",
    "        if os.path.exists(save_img_path):\n",
    "            shutil.rmtree(save_img_path)\n",
    "            os.mkdir(save_img_path)\n",
    "        else:\n",
    "            os.mkdir(save_img_path)\n",
    "            \n",
    "        save_coco_json(ann_path + os.sep+ name + \".json\", split, extract_annotations_from_images(split, annotations), [], categories, [])\n",
    "        save_subset_images(save_img_path, split) \n",
    "        "
   ]
  }
 ],
 "metadata": {
  "kernelspec": {
   "display_name": "Python 3",
   "language": "python",
   "name": "python3"
  },
  "language_info": {
   "codemirror_mode": {
    "name": "ipython",
    "version": 3
   },
   "file_extension": ".py",
   "mimetype": "text/x-python",
   "name": "python",
   "nbconvert_exporter": "python",
   "pygments_lexer": "ipython3",
   "version": "3.6.9"
  }
 },
 "nbformat": 4,
 "nbformat_minor": 5
}
