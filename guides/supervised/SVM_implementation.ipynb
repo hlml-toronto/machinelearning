{
 "cells": [
  {
   "cell_type": "code",
   "execution_count": 15,
   "id": "animated-roberts",
   "metadata": {},
   "outputs": [],
   "source": [
    "import numpy as np\n",
    "import matplotlib.pyplot as plt\n",
    "\n",
    "import matplotlib as mpl\n",
    "import os, time, itertools\n",
    "#import seaborn as sns"
   ]
  },
  {
   "cell_type": "code",
   "execution_count": 3,
   "id": "distant-bikini",
   "metadata": {},
   "outputs": [],
   "source": [
    "def make_meshgrid(x, y, h=.02):\n",
    "    \"\"\"Create a mesh of points to plot in\n",
    "\n",
    "    Parameters\n",
    "    ----------\n",
    "    x: data to base x-axis meshgrid on\n",
    "    y: data to base y-axis meshgrid on\n",
    "    h: stepsize for meshgrid, optional\n",
    "\n",
    "    Returns\n",
    "    -------\n",
    "    xx, yy : ndarray\n",
    "    \"\"\"\n",
    "    x_min, x_max = x.min() - 1, x.max() + 1\n",
    "    y_min, y_max = y.min() - 1, y.max() + 1\n",
    "    xx, yy = np.meshgrid(np.arange(x_min, x_max, h),\n",
    "                         np.arange(y_min, y_max, h))\n",
    "    return xx, yy\n",
    "\n",
    "\n",
    "def plot_contours(ax, clf, xx, yy, **params):\n",
    "    \"\"\"Plot the decision boundaries for a classifier.\n",
    "\n",
    "    Parameters\n",
    "    ----------\n",
    "    ax: matplotlib axes object\n",
    "    clf: a classifier\n",
    "    xx: meshgrid ndarray\n",
    "    yy: meshgrid ndarray\n",
    "    params: dictionary of params to pass to contourf, optional\n",
    "    \"\"\"\n",
    "    Z = clf.predict(np.c_[xx.ravel(), yy.ravel()])\n",
    "    Z = Z.reshape(xx.shape)\n",
    "    out = ax.contourf(xx, yy, Z, **params)\n",
    "    return out"
   ]
  },
  {
   "cell_type": "markdown",
   "id": "formed-confidentiality",
   "metadata": {},
   "source": [
    "## Overview\n",
    "\n",
    "A **support vector machine (SVM)** is partitions your space into 2 volumes separated by a hyperplane, effectivesly separating two classes. The training involves finding this hyperplane.\n",
    "\n",
    "<img src=https://www.aitrends.com/wp-content/uploads/2018/01/1-19SVM-2.jpg width=250> \n",
    "\n",
    "A **support vector classifier (SVC)** combines many SVMs to allow for multiple classifications.\n",
    "\n",
    "**Kernel SVMs** transform your features such that you may have non-linear hyperplanes.\n",
    "\n",
    "## SVM\n",
    "\n",
    "Assume a decision boundary $\\textbf{w}^T\\textbf{x} + b = 0$ that separates 2 classes, where the normal to the hyperplan is $\\textbf{w}^T$. For any data point $\\textbf{x}_i$ the sign of $\\textbf{w}^T\\textbf{x}_i + b$ determines on which side of the boundary it is found (i.e. which class the data point belongs to). We can classify\n",
    "\n",
    "1. if $\\textbf{w}^T\\textbf{x}_i + b \\geq 1$, then $y_i=1$\n",
    "2. if if $\\textbf{w}^T\\textbf{x}_i + b \\leq -1$, then $y_i=-1$\n",
    "\n",
    "This lets us check if the classification is correct: $y_i(\\textbf{w}^T\\textbf{x}_i + b)\\geq 0 $.\n",
    "\n",
    "Note that a variety of $\\textbf{w}$ and $b$ that allow for this to be true. However, we'll look for the hyperplane that maximizes the distance between the two boundaries, $\\textbf{w}^T\\textbf{x}_i + b = -1$ and $\\textbf{w}^T\\textbf{x}_i + b = 1$. Simple calculation shows that this distance is $d=2/\\sqrt{\\textbf{w}^T\\textbf{w}}$.\n",
    "\n",
    "The optimization problem we need to solve is then\n",
    "\n",
    "$$min_{\\textbf{w}}\\frac{\\textbf{w}^T\\textbf{w}}{2} \\rightarrow min_{\\textbf{w},b}\\frac{||w||^2}{2}$$\n",
    "subject to $$y_i(\\textbf{w}^T\\textbf{x}_i + b) -1 \\geq 0 \\quad \\forall \\textbf{x}_i$$\n",
    "\n",
    "This optimization problem can equivalently be described as the minimization of the Lagrangian\n",
    "\n",
    "$$L=\\frac{||w||^2}{2}-\\sum_i \\lambda_i (y_i(\\textbf{w}^T\\textbf{x}_i + b) - 1)$$\n",
    "\n",
    "which we can solve various optimization strategies. Another way to write this is, to allow for getting $y_i(\\textbf{w}^T\\textbf{x}_i + b)$ as close as possible to 1 is:\n",
    "\n",
    "$$L=\\frac{||w||^2}{2}+\\sum_i max_{\\lambda_i\\geq0}\\lambda_i (1 - y_i(\\textbf{w}^T\\textbf{x}_i + b))$$\n",
    "\n",
    "Note that  to prevent $\\lambda_i$ from going to infitity for penalizing misclassified points, we may still have a condition $0\\leq\\lambda_i\\leq C$. \n",
    "\n",
    "\n",
    "### Soft margin (alternative method)\n",
    "\n",
    "In some instances the data is not completely linearly separable, there may be some noise around the boundary (or mislabelled points). To allow for noisy data, you can allow for some points to cross the boundary\n",
    "\n",
    "$$min_{\\textbf{w},\\textbf{$\\epsilon$}}\\frac{||w||^2}{2}+C\\sum_i \\epsilon_i$$\n",
    "subject to $$y_i(\\textbf{w}^T\\textbf{x}_i + b) - 1 + \\epsilon_i \\geq 0 \\quad \\forall \\textbf{x}_i$$\n",
    "\n",
    "Similar Lagrangian and optimization follow.\n",
    "\n",
    "\n",
    "### Dual optimization\n",
    "\n",
    "The dual optimization problem is \n",
    "\n",
    "$$max_{\\lambda \\geq 0} [min_{\\textbf{w},b} L(\\textbf{w},b;\\lambda) ]$$\n",
    "$$ L = \\frac{||w||^2}{2}+\\sum_i max_{\\lambda_i\\geq0}\\lambda_i (1 - y_i(\\textbf{w}^T\\textbf{x}_i + b))$$\n",
    "\n",
    "The minimization gives us subsitution from $\\partial L/\\partial w_i=0$ ($\\textbf{w}=\\sum_i \\lambda_i y_i \\textbf{x}_i$) and $\\partial L/\\partial b = 0$. Our optimization problem is now\n",
    "\n",
    "$$max_{\\lambda \\geq 0}\\left[\\sum_i \\lambda_i - \\frac{1}{2}\\sum_{i,j} \\lambda_i \\lambda_j y_i y_j {\\textbf{x}_i}^T\\textbf{x}_j\\right]$$\n",
    "\n",
    "under constraints $0\\leq\\lambda_i\\leq C$ and $\\sum_i \\lambda_i y_i = 0$. This can then be solved using any maximization optimization strategy (e.g. Sequential Minimization Optimization (SMO), gradient descent?)\n",
    "\n",
    "## Kernel trick\n",
    "\n",
    "Suppose you want to transform your features into some other coordinate system or come up with some clever combination of your features. Take a mapping from the vector space of your data $V$ into another vector space (potentially infinite dimensional) $W$\n",
    "\n",
    "$$ \\phi : V \\rightarrow W $$.\n",
    "\n",
    "For example  $\\textbf{x} = (x_1,x_2) \\in {\\rm I\\!R}^2$, however we have a function $\\phi : {\\rm I\\!R}^2 \\rightarrow {\\rm I\\!R}^d$ such that $\\phi (x) = (1,x_1,x_2,x_1 x_2, {x_1}^2, {x_2}^2, , x_2{x_1}^2...)$.\n",
    "\n",
    "Our above derivation holds for the transformed data $\\phi(\\textbf{x}_i)$, and we get the same results except ${\\textbf{x}_i}^T\\textbf{x}_j \\rightarrow \\phi(\\textbf{x}_i)^T \\phi(\\textbf{x}_j)$. Why is this useful? Well, it turns out that there are ways to simplify this dot product for given functions $\\phi$, such that it's simpler than calculating the whole function for each data point and then performing a dot product. This is what is known as the kernel trick.\n",
    "\n",
    "$$\\phi(\\textbf{x})^T\\phi(\\textbf{y}) = K(\\textbf{x},\\textbf{y})$$\n",
    "\n",
    "### Common examples of kernels\n",
    "\n",
    "1. Polynomial kernel\n",
    "$\\textbf{x}\\in{\\rm I\\!R}^N$, with $\\phi : {\\rm I\\!R}^N \\rightarrow {\\rm I\\!R}^M$ such that $\\phi(\\textbf{x})$ is a polynomial of degree d\n",
    "\n",
    "$$\\phi(\\textbf{x})^T\\phi(\\textbf{y}) = (1+\\textbf{x}^T\\textbf{y})^d = K_{poly}(\\textbf{x},\\textbf{y})$$\n",
    "\n",
    "2. Radial basis function kernel (gaussian kernel)\n",
    "\n",
    "$$\\phi(\\textbf{x})^T\\phi(\\textbf{y}) = e^{||\\textbf{x} - \\textbf{y}||^2/2\\sigma^2} = K_{rbf}(\\textbf{x},\\textbf{y})$$\n",
    "\n",
    "\n",
    "## Classification\n",
    "\n",
    "Once you've learned $\\lambda_i$, classification of any new data point $\\textbf{z}$ is simply found by calculating\n",
    "\n",
    "$$sign(\\textbf{w}^T\\phi(\\textbf{z})+b)=\\sum_i\\lambda_i y_i K(\\textbf{x}_i,\\textbf{z}) + b$$\n",
    "\n",
    "Note that from our optimization strategy, the only non-zero $\\lambda_i$ are the ones$\\textbf{z} associated to points $\\textbf{x}_i$ close to the boundary: these are our support vectors.\n",
    "\n",
    "\n",
    "### Multiclassifiers\n",
    "\n",
    "I did not get to look much into this, except that I found the most common strategy was one-vs-rest approach. For $N$ classes, train $N$ binary SVMs such that for each class the SVM has finds classifies between members of the class vs all other classes. Another approache is one-vs-one, but there are more sophisticated choices.\n",
    "\n",
    "### Comments\n",
    "\n",
    "**Pros**\n",
    "1. Kernel trick allows for different combinations features without increasing run time\n",
    "2. Kernel choice determines if you're overfitting, conservative choices of kernel mean no overftting\n",
    "3. Not many hyperparameters\n",
    "\n",
    "**Cons**\n",
    "1. Memory for kernel trick is $O(n^2)$\n",
    "3. Training $O(|x|\\cdot n^2)$\n",
    "\n"
   ]
  },
  {
   "cell_type": "markdown",
   "id": "integral-profit",
   "metadata": {},
   "source": [
    "### Example : Breast Cancer Wisconsin, Iris"
   ]
  },
  {
   "cell_type": "code",
   "execution_count": 8,
   "id": "realistic-malta",
   "metadata": {},
   "outputs": [
    {
     "name": "stdout",
     "output_type": "stream",
     "text": [
      "[0 1 2 3 4 5 6 7 8 9]\n",
      "['pixel_0_0', 'pixel_0_1', 'pixel_0_2', 'pixel_0_3', 'pixel_0_4', 'pixel_0_5', 'pixel_0_6', 'pixel_0_7', 'pixel_1_0', 'pixel_1_1', 'pixel_1_2', 'pixel_1_3', 'pixel_1_4', 'pixel_1_5', 'pixel_1_6', 'pixel_1_7', 'pixel_2_0', 'pixel_2_1', 'pixel_2_2', 'pixel_2_3', 'pixel_2_4', 'pixel_2_5', 'pixel_2_6', 'pixel_2_7', 'pixel_3_0', 'pixel_3_1', 'pixel_3_2', 'pixel_3_3', 'pixel_3_4', 'pixel_3_5', 'pixel_3_6', 'pixel_3_7', 'pixel_4_0', 'pixel_4_1', 'pixel_4_2', 'pixel_4_3', 'pixel_4_4', 'pixel_4_5', 'pixel_4_6', 'pixel_4_7', 'pixel_5_0', 'pixel_5_1', 'pixel_5_2', 'pixel_5_3', 'pixel_5_4', 'pixel_5_5', 'pixel_5_6', 'pixel_5_7', 'pixel_6_0', 'pixel_6_1', 'pixel_6_2', 'pixel_6_3', 'pixel_6_4', 'pixel_6_5', 'pixel_6_6', 'pixel_6_7', 'pixel_7_0', 'pixel_7_1', 'pixel_7_2', 'pixel_7_3', 'pixel_7_4', 'pixel_7_5', 'pixel_7_6', 'pixel_7_7']\n"
     ]
    }
   ],
   "source": [
    "from sklearn.datasets import load_breast_cancer, load_iris, load_digits, load_wine\n",
    "from sklearn import svm\n",
    "\n",
    "dataset = load_digits()\n",
    "\n",
    "features = [0,1]\n",
    "feature_label = [dataset.feature_names[features[0]], dataset.feature_names[features[1]]]\n",
    "X = dataset.data[:, features]\n",
    "y = dataset.target\n",
    "print(dataset.target_names)\n",
    "print(dataset.feature_names)"
   ]
  },
  {
   "cell_type": "code",
   "execution_count": 18,
   "id": "structured-reaction",
   "metadata": {},
   "outputs": [
    {
     "data": {
      "text/plain": [
       "[]"
      ]
     },
     "execution_count": 18,
     "metadata": {},
     "output_type": "execute_result"
    },
    {
     "data": {
      "image/png": "[encoded data removed]",
      "text/plain": [
       "<Figure size 432x288 with 1 Axes>"
      ]
     },
     "metadata": {},
     "output_type": "display_data"
    }
   ],
   "source": [
    "fig, ax = plt.subplots()\n",
    "\n",
    "X0, X1 = X[:, 0], X[:, 1]\n",
    "xx, yy = make_meshgrid(X0, X1)\n",
    "\n",
    "ax.scatter(X0, X1, c=y, cmap=plt.cm.coolwarm, s=20, edgecolors='k')\n",
    "ax.set_xlim(xx.min(), xx.max())\n",
    "ax.set_ylim(yy.min(), yy.max())\n",
    "ax.set_xlabel(feature_label[0])\n",
    "ax.set_ylabel(feature_label[1])\n",
    "ax.set_xticks(())\n",
    "ax.set_yticks(())"
   ]
  },
  {
   "cell_type": "code",
   "execution_count": 19,
   "id": "burning-method",
   "metadata": {},
   "outputs": [],
   "source": [
    "C = 1.0  # SVM regularization parameter\n",
    "models = (svm.SVC(kernel='linear', C=C),\n",
    "          svm.LinearSVC(C=C, max_iter=100000),\n",
    "          svm.SVC(kernel='rbf', gamma=0.7, C=C),\n",
    "          svm.SVC(kernel='poly', degree=3, gamma='auto', C=C))\n",
    "models = (clf.fit(X, y) for clf in models)\n",
    "\n",
    "# title for the plots\n",
    "titles = ('SVC with linear kernel',\n",
    "          'LinearSVC (linear kernel)',\n",
    "          'SVC with RBF kernel',\n",
    "          'SVC with polynomial (degree 3) kernel')"
   ]
  },
  {
   "cell_type": "code",
   "execution_count": 20,
   "id": "noticed-issue",
   "metadata": {},
   "outputs": [
    {
     "data": {
      "image/png": "[encoded data removed]",
      "text/plain": [
       "<Figure size 432x288 with 4 Axes>"
      ]
     },
     "metadata": {},
     "output_type": "display_data"
    }
   ],
   "source": [
    "# Set-up 2x2 grid for plotting.\n",
    "fig, sub = plt.subplots(2, 2)\n",
    "plt.subplots_adjust(wspace=0.4, hspace=0.4)\n",
    "\n",
    "for clf, title, ax in zip(models, titles, sub.flatten()):\n",
    "    plot_contours(ax, clf, xx, yy, cmap=plt.cm.coolwarm, alpha=0.8)\n",
    "    ax.scatter(X0, X1, c=y, cmap=plt.cm.coolwarm, s=20, edgecolors='k')\n",
    "    ax.set_xlim(xx.min(), xx.max())\n",
    "    ax.set_ylim(yy.min(), yy.max())\n",
    "    ax.set_xlabel(feature_label[0])\n",
    "    ax.set_ylabel(feature_label[1])\n",
    "    ax.set_xticks(())\n",
    "    ax.set_yticks(())\n",
    "    ax.set_title(title)\n",
    "\n",
    "plt.show()"
   ]
  },
  {
   "cell_type": "markdown",
   "id": "present-blind",
   "metadata": {},
   "source": [
    "### Example 2 : Prediction"
   ]
  },
  {
   "cell_type": "code",
   "execution_count": 18,
   "id": "appointed-integration",
   "metadata": {},
   "outputs": [
    {
     "name": "stdout",
     "output_type": "stream",
     "text": [
      "(60000, 784)\n"
     ]
    }
   ],
   "source": [
    "from keras.datasets import mnist\n",
    "(X_train_raw, y_train), (X_test_raw, y_test) = mnist.load_data()\n",
    "\n",
    "#X_train_raw = train_X.reshape(train_X.shape[0], 28, 28, 1)\n",
    "#test_X_raw = test_X.reshape(test_X.shape[0], 28, 28, 1)\n",
    "\n",
    "num_features = X_train_raw.shape[1]*X_train_raw.shape[2]\n",
    "\n",
    "X_train, X_test = X_train_raw.reshape([-1, num_features]), X_test_raw.reshape([-1, num_features])\n",
    "\n",
    "print(X_train.shape)"
   ]
  },
  {
   "cell_type": "code",
   "execution_count": null,
   "id": "tired-pursuit",
   "metadata": {},
   "outputs": [],
   "source": [
    "from sklearn.model_selection import train_test_split\n",
    "\n",
    "dataset = load_digits()\n",
    "#flatten\n",
    "n_samples = len(dataset.images)\n",
    "data = dataset.images.reshape((n_samples, -1))\n",
    "\n",
    "# Split data into 70% train and 30% test subsets\n",
    "X_train, X_test, y_train, y_test = train_test_split(\n",
    "    data, dataset.target, test_size=0.3, shuffle=False)"
   ]
  },
  {
   "cell_type": "code",
   "execution_count": null,
   "id": "personalized-enterprise",
   "metadata": {},
   "outputs": [],
   "source": [
    "# Learn the digits on the train subset\n",
    "clf = svm.SVC(gamma=0.001)\n",
    "clf.fit(X_train, y_train)\n",
    "\n",
    "# Predict the value of the digit on the test subset\n",
    "predicted = clf.predict(X_test)"
   ]
  },
  {
   "cell_type": "code",
   "execution_count": null,
   "id": "casual-framing",
   "metadata": {},
   "outputs": [],
   "source": [
    "_, axes = plt.subplots(nrows=1, ncols=4, figsize=(10, 3))\n",
    "for ax, image, prediction in zip(axes, X_test, predicted):\n",
    "    ax.set_axis_off()\n",
    "    image = image.reshape(X_train_raw.shape[1], X_train_raw.shape[2])\n",
    "    ax.imshow(image, cmap=plt.cm.gray_r, interpolation='nearest')\n",
    "    ax.set_title(f'Prediction: {prediction}')"
   ]
  },
  {
   "cell_type": "code",
   "execution_count": null,
   "id": "residential-following",
   "metadata": {},
   "outputs": [],
   "source": []
  }
 ],
 "metadata": {
  "kernelspec": {
   "display_name": "Python 3",
   "language": "python",
   "name": "python3"
  },
  "language_info": {
   "codemirror_mode": {
    "name": "ipython",
    "version": 3
   },
   "file_extension": ".py",
   "mimetype": "text/x-python",
   "name": "python",
   "nbconvert_exporter": "python",
   "pygments_lexer": "ipython3",
   "version": "3.6.9"
  }
 },
 "nbformat": 4,
 "nbformat_minor": 5
}
